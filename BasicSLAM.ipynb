{
  "nbformat": 4,
  "nbformat_minor": 0,
  "metadata": {
    "colab": {
      "provenance": [],
      "authorship_tag": "ABX9TyP982Y40TJ2mGUXg0wZASt8",
      "include_colab_link": true
    },
    "kernelspec": {
      "name": "python3",
      "display_name": "Python 3"
    },
    "language_info": {
      "name": "python"
    }
  },
  "cells": [
    {
      "cell_type": "markdown",
      "metadata": {
        "id": "view-in-github",
        "colab_type": "text"
      },
      "source": [
        "<a href=\"https://colab.research.google.com/github/Rakshit-Sawarn-iitb/Racing-Team/blob/main/BasicSLAM.ipynb\" target=\"_parent\"><img src=\"https://colab.research.google.com/assets/colab-badge.svg\" alt=\"Open In Colab\"/></a>"
      ]
    },
    {
      "cell_type": "code",
      "execution_count": 9,
      "metadata": {
        "id": "GbAZO-5knZXe",
        "colab": {
          "base_uri": "https://localhost:8080/"
        },
        "outputId": "fec6ef1c-d30b-4cfd-a4ed-752ae4512fb3"
      },
      "outputs": [
        {
          "output_type": "stream",
          "name": "stdout",
          "text": [
            "Time: 0.1s - State: x=0.20, y=0.10, theta=0.11\n",
            "Time: 1.1s - State: x=1.56, y=0.88, theta=0.64\n",
            "Time: 2.1s - State: x=2.60, y=2.04, theta=1.15\n",
            "Time: 3.1s - State: x=3.16, y=3.35, theta=1.59\n",
            "Time: 4.1s - State: x=3.22, y=4.57, theta=1.93\n",
            "Time: 5.1s - State: x=2.90, y=5.60, theta=2.17\n",
            "Time: 6.1s - State: x=2.34, y=6.44, theta=2.33\n",
            "Time: 7.1s - State: x=1.62, y=7.14, theta=2.44\n",
            "Time: 8.1s - State: x=0.81, y=7.73, theta=2.52\n",
            "Time: 9.1s - State: x=-0.07, y=8.24, theta=2.57\n"
          ]
        }
      ],
      "source": [
        "import numpy as np\n",
        "import matplotlib.pyplot as plt\n",
        "\n",
        "# Initialization\n",
        "initial_x = 0.0\n",
        "initial_y = 0.0\n",
        "initial_theta = 0.0\n",
        "\n",
        "\n",
        "# Set initial state\n",
        "x = initial_x\n",
        "y = initial_y\n",
        "theta = initial_theta\n",
        "\n",
        "# Set initial state covariance matrix\n",
        "P = np.eye(3)\n",
        "\n",
        "# Time step\n",
        "dt = 0.1\n",
        "# Process noise covariance matrix\n",
        "Q = np.eye(3) * 0.01# Example process noise\n",
        "H = np.eye(3)  # Observation matrix\n",
        "R = np.eye(3) * 0.1  # Measurement noise covariance\n",
        "v = 1.0  # Example translational velocity\n",
        "w = 0.1  # Example yaw rate\n",
        "\n",
        "# Main loop\n",
        "for _ in range(100):\n",
        "    # Motion model - Predict Step\n",
        "    x_predict = x + v * dt * np.cos(theta)\n",
        "    y_predict = y + v * dt * np.sin(theta)\n",
        "    theta_predict = (theta + w * dt) % (2 * np.pi)\n",
        "    a = -v * dt * np.sin(theta)\n",
        "    b = v * dt * np.cos(theta)\n",
        "\n",
        "    # State transition matrix\n",
        "    F = np.array([[1.0, 0.0, a],\n",
        "                  [0.0, 1.0, b],\n",
        "                  [0.0, 0.0, 1.0]])\n",
        "\n",
        "    # Predicted state covariance update\n",
        "    P = F @ P @ F.T + Q\n",
        "\n",
        "    # Update Step - Measurement Update\n",
        "    z = np.array([x_predict, y_predict, theta_predict])  # Simulated sensor measurements\n",
        "\n",
        "\n",
        "    # Kalman gain\n",
        "    K = (P) @ (H.T) @ (np.linalg.inv((H) @ (P) @ (H.T) + R))\n",
        "\n",
        "    # Innovation\n",
        "    innovation = z - np.array([x, y, theta])\n",
        "\n",
        "    # Update state based on sensor measurements\n",
        "    x = x_predict + np.sum(np.dot(K, innovation), axis = 0)\n",
        "    y = y_predict + np.sum(np.dot(K, innovation), axis = 0)\n",
        "    theta = theta_predict + np.sum(np.dot(K, innovation), axis = 0)\n",
        "\n",
        "    # Update state covariance matrix\n",
        "    P = (np.eye(3) - K @ H) @ P\n",
        "\n",
        "    # Ensure theta is within the range [0, 2*pi)\n",
        "    theta = theta % (2 * np.pi)\n",
        "\n",
        "    # Print updated state\n",
        "    if (_%10 == 0):\n",
        "      print(f\"Time: {(_ + 1) * dt:.1f}s - State: x={x:.2f}, y={y:.2f}, theta={theta:.2f}\")"
      ]
    }
  ]
}